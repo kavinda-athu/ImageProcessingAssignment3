{
  "nbformat": 4,
  "nbformat_minor": 0,
  "metadata": {
    "colab": {
      "name": "assignment3.ipynb",
      "provenance": [],
      "collapsed_sections": [],
      "authorship_tag": "ABX9TyMSW947g1yuVTOysbQXDoAt",
      "include_colab_link": true
    },
    "kernelspec": {
      "name": "python3",
      "display_name": "Python 3"
    },
    "language_info": {
      "name": "python"
    }
  },
  "cells": [
    {
      "cell_type": "markdown",
      "metadata": {
        "id": "view-in-github",
        "colab_type": "text"
      },
      "source": [
        "<a href=\"https://colab.research.google.com/github/kavinda-athu/ImageProcessingAssignment3/blob/main/assignment3.ipynb\" target=\"_parent\"><img src=\"https://colab.research.google.com/assets/colab-badge.svg\" alt=\"Open In Colab\"/></a>"
      ]
    },
    {
      "cell_type": "markdown",
      "source": [
        "190060P Athukorala K.H"
      ],
      "metadata": {
        "id": "oqHt2T_KMKMP"
      }
    },
    {
      "cell_type": "code",
      "execution_count": 92,
      "metadata": {
        "colab": {
          "base_uri": "https://localhost:8080/",
          "height": 0
        },
        "id": "hJPO3saQPRzy",
        "outputId": "cc71c51d-cd39-457d-e687-940711ca7129"
      },
      "outputs": [
        {
          "output_type": "stream",
          "name": "stdout",
          "text": [
            "Drive already mounted at /content/gdrive; to attempt to forcibly remount, call drive.mount(\"/content/gdrive\", force_remount=True).\n"
          ]
        }
      ],
      "source": [
        "from google.colab import drive\n",
        "drive.mount('/content/gdrive')"
      ]
    },
    {
      "cell_type": "code",
      "source": [
        "import cv2 as cv\n",
        "import numpy as np\n",
        "import matplotlib.pyplot as plt\n",
        "\n",
        "hexnut_template = cv.imread('/content/gdrive/My Drive/ColabNotebooks/assignment3/hexnut_template.png', cv.IMREAD_COLOR)\n",
        "squarenut_template =  cv.imread('/content/gdrive/My Drive/ColabNotebooks/assignment3/squarenut_template.png', cv.IMREAD_COLOR)\n",
        "conveyor_f100 =  cv.imread('/content/gdrive/My Drive/ColabNotebooks/assignment3/conveyor_f100.png', cv.IMREAD_COLOR)\n",
        "\n",
        "fig, ax = plt. subplots(1,3)\n",
        "ax[0].imshow(cv.cvtColor(hexnut_template, cv.COLOR_RGB2BGR))\n",
        "ax[1].imshow(cv.cvtColor(squarenut_template, cv.COLOR_RGB2BGR))\n",
        "ax[2].imshow(cv.cvtColor(conveyor_f100, cv.COLOR_RGB2BGR))\n",
        "plt.show()"
      ],
      "metadata": {
        "colab": {
          "base_uri": "https://localhost:8080/",
          "height": 150
        },
        "id": "AHY67imkQEiD",
        "outputId": "8513bafb-f666-46ee-b380-f3876e3a4b5f"
      },
      "execution_count": 93,
      "outputs": [
        {
          "output_type": "display_data",
          "data": {
            "text/plain": [
              "<Figure size 432x288 with 3 Axes>"
            ],
            "image/png": "[encoded data removed]"
          },
          "metadata": {
            "needs_background": "light"
          }
        }
      ]
    },
    {
      "cell_type": "markdown",
      "source": [
        "Convert the images to grayscale and apply Otsu's thresholding to obtain the binarized image."
      ],
      "metadata": {
        "id": "No_yy7ZKaUjE"
      }
    },
    {
      "cell_type": "code",
      "source": [
        "hexnut_gray = cv.cvtColor(hexnut_template,cv.COLOR_BGR2GRAY)\n",
        "squarenut_gray = cv.cvtColor(squarenut_template,cv.COLOR_BGR2GRAY)\n",
        "conveyor_gray = cv.cvtColor(conveyor_f100,cv.COLOR_BGR2GRAY)\n",
        "\n",
        "#blur1 = cv.GaussianBlur(hexnut_gray,(5,5),0)\n",
        "#blur2= cv.GaussianBlur(squarenut_gray,(5,5),0)\n",
        "#blur3 = cv.GaussianBlur(conveyor_gray,(5,5),0)\n",
        "\n",
        "ret1,th1 = cv.threshold(hexnut_gray,0,255,cv.THRESH_BINARY+cv.THRESH_OTSU)\n",
        "ret2,th2 = cv.threshold(squarenut_gray,0,255,cv.THRESH_BINARY+cv.THRESH_OTSU)\n",
        "ret3,th3 = cv.threshold(conveyor_gray,0,255,cv.THRESH_BINARY+cv.THRESH_OTSU)\n",
        "\n",
        "fig, ax = plt. subplots(1,3)\n",
        "ax[0].imshow(th1,'gray')\n",
        "ax[1].imshow(th2,'gray')\n",
        "ax[2].imshow(th3,'gray')\n",
        "plt.show()\n",
        "\n"
      ],
      "metadata": {
        "colab": {
          "base_uri": "https://localhost:8080/",
          "height": 150
        },
        "id": "hNhSZKY0QjOZ",
        "outputId": "6e0391a2-c6e2-4aa2-dc3a-04a36ad26027"
      },
      "execution_count": 94,
      "outputs": [
        {
          "output_type": "display_data",
          "data": {
            "text/plain": [
              "<Figure size 432x288 with 3 Axes>"
            ],
            "image/png": "[encoded data removed]"
          },
          "metadata": {
            "needs_background": "light"
          }
        }
      ]
    },
    {
      "cell_type": "markdown",
      "source": [
        "Apply morphological closing to remove small holes inside the foreground."
      ],
      "metadata": {
        "id": "FKft7TDzaagS"
      }
    },
    {
      "cell_type": "code",
      "source": [
        "kernel = np.ones((3,3),np.uint8)\n",
        "closing1 = cv.morphologyEx(th1, cv.MORPH_CLOSE, kernel)\n",
        "closing2 = cv.morphologyEx(th2, cv.MORPH_CLOSE, kernel)\n",
        "closing3 = cv.morphologyEx(th3, cv.MORPH_CLOSE, kernel)\n",
        "\n",
        "fig, ax = plt. subplots(1,3)\n",
        "ax[0].imshow(closing1,'gray')\n",
        "ax[1].imshow(closing2,'gray')\n",
        "ax[2].imshow(closing3,'gray')\n",
        "plt.show()\n"
      ],
      "metadata": {
        "colab": {
          "base_uri": "https://localhost:8080/",
          "height": 150
        },
        "id": "ooL9DuMuUB2J",
        "outputId": "99bd6d74-9bf5-40ce-b822-8a1421b88a33"
      },
      "execution_count": 95,
      "outputs": [
        {
          "output_type": "display_data",
          "data": {
            "text/plain": [
              "<Figure size 432x288 with 3 Axes>"
            ],
            "image/png": "[encoded data removed]"
          },
          "metadata": {
            "needs_background": "light"
          }
        }
      ]
    },
    {
      "cell_type": "markdown",
      "source": [
        "Connected components analysis:\n",
        "Stats is a matrix of the stats that the function calculates. It has a length  equal to the number of labels and a width equal to the number of stats.There are five stats in here. They are,\n",
        "\n",
        "\n",
        "\n",
        "\n",
        "\n",
        "1. cv2.CC_STAT_LEFT The leftmost (x) coordinate which is the inclusive start of \n",
        "the bounding box in the horizontal direction.\n",
        "2. cv2.CC_STAT_TOP The topmost (y) coordinate which is the inclusive start of the bounding box in the vertical direction.\n",
        "3. cv2.CC_STAT_WIDTH The horizontal size of the bounding box.\n",
        "4. cv2.CC_STAT_HEIGHT The vertical size of the bounding box.\n",
        "5. cv2.CC_STAT_AREA The total area (in pixels) of the connected component.\n",
        "\n"
      ],
      "metadata": {
        "id": "dyZWL0Jwakqa"
      }
    },
    {
      "cell_type": "code",
      "source": [
        "output1 = cv.connectedComponentsWithStats(closing1)\n",
        "print('There are {} connected components in hexnut template.'.format(output1[0]))\n",
        "print('Statistics:')\n",
        "print(output1[2])\n",
        "print()\n",
        "print('Centroids:')\n",
        "print(output1[3])\n",
        "plt.imshow(output1[1])"
      ],
      "metadata": {
        "colab": {
          "base_uri": "https://localhost:8080/",
          "height": 459
        },
        "id": "Umrsafy4gUzP",
        "outputId": "e4314116-6fc0-4cf8-ef42-de50211bc78a"
      },
      "execution_count": 96,
      "outputs": [
        {
          "output_type": "stream",
          "name": "stdout",
          "text": [
            "There are 3 connected components in hexnut template.\n",
            "Statistics:\n",
            "[[  11   16   99   88 4722]\n",
            " [   0    0  120  120 7717]\n",
            " [  35   35   51   51 1961]]\n",
            "\n",
            "Centroids:\n",
            "[[59.83354511 59.22257518]\n",
            " [59.168848   59.54269794]\n",
            " [60.         60.        ]]\n"
          ]
        },
        {
          "output_type": "execute_result",
          "data": {
            "text/plain": [
              "<matplotlib.image.AxesImage at 0x7efe79d633d0>"
            ]
          },
          "metadata": {},
          "execution_count": 96
        },
        {
          "output_type": "display_data",
          "data": {
            "text/plain": [
              "<Figure size 432x288 with 1 Axes>"
            ],
            "image/png": "[encoded data removed]"
          },
          "metadata": {
            "needs_background": "light"
          }
        }
      ]
    },
    {
      "cell_type": "code",
      "source": [
        "output2 = cv.connectedComponentsWithStats(closing2)\n",
        "print('There are {} connected components in hexnut template.'.format(output2[0]))\n",
        "print('Statistics:')\n",
        "print(output2[2])\n",
        "print()\n",
        "print('Centroids:')\n",
        "print(output2[3])\n",
        "plt.imshow(output2[1])\n"
      ],
      "metadata": {
        "colab": {
          "base_uri": "https://localhost:8080/",
          "height": 459
        },
        "id": "UVyYs8lqjuig",
        "outputId": "f00b4c0a-8471-4d37-942b-34f575995f12"
      },
      "execution_count": 97,
      "outputs": [
        {
          "output_type": "stream",
          "name": "stdout",
          "text": [
            "There are 3 connected components in hexnut template.\n",
            "Statistics:\n",
            "[[  24   24   72   72 3223]\n",
            " [   0    0  120  120 9216]\n",
            " [  35   35   51   51 1961]]\n",
            "\n",
            "Centroids:\n",
            "[[59.19578033 59.19578033]\n",
            " [59.5        59.5       ]\n",
            " [60.         60.        ]]\n"
          ]
        },
        {
          "output_type": "execute_result",
          "data": {
            "text/plain": [
              "<matplotlib.image.AxesImage at 0x7efe790aa7d0>"
            ]
          },
          "metadata": {},
          "execution_count": 97
        },
        {
          "output_type": "display_data",
          "data": {
            "text/plain": [
              "<Figure size 432x288 with 1 Axes>"
            ],
            "image/png": "[encoded data removed]"
          },
          "metadata": {
            "needs_background": "light"
          }
        }
      ]
    },
    {
      "cell_type": "code",
      "source": [
        "output3 = cv.connectedComponentsWithStats(closing3)\n",
        "print('There are {} connected components in hexnut template.'.format(output3[0]))\n",
        "print('Statistics:')\n",
        "print(output3[2])\n",
        "print()\n",
        "print('Centroids:')\n",
        "print(output3[3])\n",
        "plt.imshow(output3[1])"
      ],
      "metadata": {
        "colab": {
          "base_uri": "https://localhost:8080/",
          "height": 535
        },
        "id": "k2R96mlMgn5P",
        "outputId": "7efa1209-295f-4f8c-ac8e-44657ce4ba75"
      },
      "execution_count": 98,
      "outputs": [
        {
          "output_type": "stream",
          "name": "stdout",
          "text": [
            "There are 6 connected components in hexnut template.\n",
            "Statistics:\n",
            "[[    651     151     895     499   13930]\n",
            " [      0       0    1920    1080 2051826]\n",
            " [   1475     175      51      51    1961]\n",
            " [   1275     375      51      51    1961]\n",
            " [   1475     475      51      51    1961]\n",
            " [    675     575      51      51    1961]]\n",
            "\n",
            "Centroids:\n",
            "[[1275.02110553  400.11083991]\n",
            " [ 956.24734066  540.88404962]\n",
            " [1500.          200.        ]\n",
            " [1300.          400.        ]\n",
            " [1500.          500.        ]\n",
            " [ 700.          600.        ]]\n"
          ]
        },
        {
          "output_type": "execute_result",
          "data": {
            "text/plain": [
              "<matplotlib.image.AxesImage at 0x7efe79087f90>"
            ]
          },
          "metadata": {},
          "execution_count": 98
        },
        {
          "output_type": "display_data",
          "data": {
            "text/plain": [
              "<Figure size 432x288 with 1 Axes>"
            ],
            "image/png": "[encoded data removed]"
          },
          "metadata": {
            "needs_background": "light"
          }
        }
      ]
    },
    {
      "cell_type": "markdown",
      "source": [
        "Contour analysis: "
      ],
      "metadata": {
        "id": "TNRYymN2cGxB"
      }
    },
    {
      "cell_type": "code",
      "source": [
        "back_ground1=np.zeros(hexnut_template.shape)\n",
        "contours1, hierarchy1 = cv.findContours(closing1, cv.RETR_TREE, cv.CHAIN_APPROX_SIMPLE)\n",
        "cnt1= [contours1[i] for i in range(1,3,2)]\n",
        "cv.drawContours(back_ground1, cnt1,-1, (0,255,150), 3)\n",
        "plt.imshow(back_ground1)\n",
        "plt.axis('off')\n",
        "plt.show()"
      ],
      "metadata": {
        "colab": {
          "base_uri": "https://localhost:8080/",
          "height": 265
        },
        "id": "CfErbURKVIht",
        "outputId": "37eda639-1555-4f21-f525-feaca2bde7d6"
      },
      "execution_count": 99,
      "outputs": [
        {
          "output_type": "stream",
          "name": "stderr",
          "text": [
            "Clipping input data to the valid range for imshow with RGB data ([0..1] for floats or [0..255] for integers).\n"
          ]
        },
        {
          "output_type": "display_data",
          "data": {
            "text/plain": [
              "<Figure size 432x288 with 1 Axes>"
            ],
            "image/png": "[encoded data removed]"
          },
          "metadata": {
            "needs_background": "light"
          }
        }
      ]
    },
    {
      "cell_type": "code",
      "source": [
        "back_ground2=np.zeros(squarenut_template.shape)\n",
        "contours2, hierarchy2 = cv.findContours(closing2, cv.RETR_TREE, cv.CHAIN_APPROX_SIMPLE)\n",
        "cnt2= [contours2[i] for i in range(1,3,2)]\n",
        "cv.drawContours(back_ground2, cnt2, -1, (0,255,150), 3)\n",
        "plt.imshow(back_ground2)\n",
        "plt.axis('off')\n",
        "plt.show()"
      ],
      "metadata": {
        "colab": {
          "base_uri": "https://localhost:8080/",
          "height": 265
        },
        "id": "vpl1MZAMVIaL",
        "outputId": "7dce9942-a2bf-4400-beab-c036b7c0f555"
      },
      "execution_count": 100,
      "outputs": [
        {
          "output_type": "stream",
          "name": "stderr",
          "text": [
            "Clipping input data to the valid range for imshow with RGB data ([0..1] for floats or [0..255] for integers).\n"
          ]
        },
        {
          "output_type": "display_data",
          "data": {
            "text/plain": [
              "<Figure size 432x288 with 1 Axes>"
            ],
            "image/png": "[encoded data removed]"
          },
          "metadata": {
            "needs_background": "light"
          }
        }
      ]
    },
    {
      "cell_type": "code",
      "source": [
        "back_ground3=np.zeros(conveyor_f100.shape)\n",
        "contours3, hierarchy3 = cv.findContours(closing3, cv.RETR_TREE, cv.CHAIN_APPROX_SIMPLE)\n",
        "cnt3 = [contours3[i] for i in range(1,9,2)]\n",
        "cv.drawContours(back_ground3, cnt3, -1, (0,255,150), 3)\n",
        "plt.imshow(back_ground3)\n",
        "plt.axis('off')\n",
        "plt.show()"
      ],
      "metadata": {
        "colab": {
          "base_uri": "https://localhost:8080/",
          "height": 236
        },
        "id": "mBfBY_79nbPx",
        "outputId": "07821753-f4f1-4f49-fe09-0f884155261c"
      },
      "execution_count": 101,
      "outputs": [
        {
          "output_type": "stream",
          "name": "stderr",
          "text": [
            "Clipping input data to the valid range for imshow with RGB data ([0..1] for floats or [0..255] for integers).\n"
          ]
        },
        {
          "output_type": "display_data",
          "data": {
            "text/plain": [
              "<Figure size 432x288 with 1 Axes>"
            ],
            "image/png": "[encoded data removed]"
          },
          "metadata": {
            "needs_background": "light"
          }
        }
      ]
    },
    {
      "cell_type": "markdown",
      "source": [
        "Counting the number of matching hexagonal nuts in conveyor_f100.png."
      ],
      "metadata": {
        "id": "8gmvSFFTcKlR"
      }
    },
    {
      "cell_type": "code",
      "source": [
        "total=0\n",
        "for el in contours3:\n",
        "  ret = cv.matchShapes(el,contours1[1],1,0.0)\n",
        "  if (ret < 0.003):\n",
        "    total += 1\n",
        "\n",
        "print(\"Number of hexagonal nuts in conveyor_f100 picture :\", total)"
      ],
      "metadata": {
        "id": "hZJA81p5omdA",
        "colab": {
          "base_uri": "https://localhost:8080/",
          "height": 0
        },
        "outputId": "3e1c787a-5194-4e8f-e0eb-7e111ba3ee22"
      },
      "execution_count": 102,
      "outputs": [
        {
          "output_type": "stream",
          "name": "stdout",
          "text": [
            "Number of hexagonal nuts in conveyor_f100 picture : 1\n"
          ]
        }
      ]
    },
    {
      "cell_type": "markdown",
      "source": [
        "Counting the number of objects that were conveyed along the conveyor belt."
      ],
      "metadata": {
        "id": "R-E4ZOZ1cTPX"
      }
    },
    {
      "cell_type": "code",
      "source": [
        "cap = cv.VideoCapture('/content/gdrive/My Drive/ColabNotebooks/assignment3/conveyor.mp4')\n",
        "frames=[]\n",
        "while cap.isOpened():\n",
        "  ret, frame = cap.read()\n",
        "  frames.append(frame)\n",
        "  if not ret:\n",
        "        print(\"Can't receive frame (stream end?). Exiting.\")\n",
        "        break    \n",
        "cap.release()\n",
        "total=0\n",
        "dic = {'hex':0, 'square':0}\n",
        "previous_max_distance = 0\n",
        "for frame in frames[:-1]:\n",
        "    matched=[]\n",
        "    h_total=0\n",
        "    s_total=0\n",
        "    img_gray = cv.cvtColor(frame,cv.COLOR_BGR2GRAY)\n",
        "    ret,th = cv.threshold(img_gray,0,255,cv.THRESH_BINARY+cv.THRESH_OTSU)\n",
        "    kernel = np.ones((3,3),np.uint8)\n",
        "    closing = cv.morphologyEx(th, cv.MORPH_CLOSE, kernel)\n",
        "    frame_con,frame_hie = cv.findContours(closing,cv.RETR_TREE, cv.CHAIN_APPROX_SIMPLE)\n",
        "    stat = cv.connectedComponentsWithStats(closing)\n",
        "    lis={'hex':[], 'square':[]}\n",
        "    for con in frame_con:\n",
        "      M = cv.moments(con)\n",
        "      count_r = cv.matchShapes(con,contours1[1],1,0.0)\n",
        "      count_q = cv.matchShapes(con,contours2[1],1,0.0)\n",
        "      if count_r<=0.004 and abs(cv.contourArea(con)-cv.contourArea(contours1[1]))<=500:\n",
        "        h_total+=1\n",
        "        lis['hex'].append(int(M['m10']/M['m00']))\n",
        "      elif count_q<=0.005 and abs(cv.contourArea(con)-cv.contourArea(contours2[1]))<=500:\n",
        "        s_total+=1\n",
        "        lis['square'].append(int(M['m10']/M['m00']))\n",
        "\n",
        "    f_max = {'hex':0, 'square':0}\n",
        "    for nut in ['hex','square']:\n",
        "        for y in lis[nut]:\n",
        "            f_max[nut] = max(f_max[nut], y)\n",
        "            if dic[nut] < y:\n",
        "                total+= 1\n",
        "        dic[nut] = f_max[nut]\n",
        "    text1= 'Hexnut count  : '+str(h_total)\n",
        "    text2='Squrenut count : '+ str(s_total)\n",
        "    text3= 'Current frame  : '+str(h_total+s_total)\n",
        "    text4='Total count : '+ str(total)\n",
        "    cv.putText(img=frame, text= text1, org=(70, 70), fontFace=cv.FONT_HERSHEY_TRIPLEX, fontScale=2, color=(0, 0, 255),thickness=1)\n",
        "    cv.putText(img=frame, text= text2, org=(70, 150), fontFace=cv.FONT_HERSHEY_TRIPLEX, fontScale=2, color=(0, 0, 255),thickness=1)\n",
        "    cv.putText(img=frame, text= text3, org=(70, 230), fontFace=cv.FONT_HERSHEY_TRIPLEX, fontScale=2, color=(0, 0, 255),thickness=1)\n",
        "    cv.putText(img=frame, text= text4, org=(70, 310), fontFace=cv.FONT_HERSHEY_TRIPLEX, fontScale=2, color=(0, 0, 255),thickness=1)\n",
        "\n",
        "\n"
      ],
      "metadata": {
        "colab": {
          "base_uri": "https://localhost:8080/",
          "height": 0
        },
        "id": "jmSU6CKySkXv",
        "outputId": "491db778-0455-4ee6-f6fb-fc2e11004b12"
      },
      "execution_count": 115,
      "outputs": [
        {
          "output_type": "stream",
          "name": "stdout",
          "text": [
            "Can't receive frame (stream end?). Exiting.\n"
          ]
        }
      ]
    },
    {
      "cell_type": "code",
      "source": [
        "frame_array = frames[:-1]\n",
        "shape = (1080, 1920, 3)\n",
        "out = cv.VideoWriter('/content/gdrive/My Drive/ColabNotebooks/assignment3/conveyor_result_190060P.mp4',cv.VideoWriter_fourcc(*'h264'), 30, (shape[1], shape[0]))\n",
        "for i in range(len(frame_array)):\n",
        "  out.write(frame_array[i])\n",
        "out.release()"
      ],
      "metadata": {
        "id": "kLIPaKfEYd6S"
      },
      "execution_count": 116,
      "outputs": []
    },
    {
      "cell_type": "code",
      "source": [
        ""
      ],
      "metadata": {
        "id": "ld9SKjWpYjXc"
      },
      "execution_count": 115,
      "outputs": []
    }
  ]
}